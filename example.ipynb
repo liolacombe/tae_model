{
 "cells": [
  {
   "cell_type": "code",
   "execution_count": 1,
   "metadata": {},
   "outputs": [],
   "source": [
    "# Just keep this first cell untouched, it just loads the model\n",
    "import torch\n",
    "from modelv0 import TAEConfig, TAEmodel\n",
    "\n",
    "# see if gpu if available\n",
    "device = 'cuda' if torch.cuda.is_available() else 'cpu'\n",
    "# \n",
    "config = TAEConfig(n_layer = 6, n_head = 4, n_embd = 128)\n",
    "model = TAEmodel(config)\n",
    "# loading the weights if available\n",
    "model.load_state_dict(torch.load('model_weights_v0.pt', map_location=torch.device(device)))\n",
    "model = model.to(device)"
   ]
  },
  {
   "cell_type": "code",
   "execution_count": 4,
   "metadata": {},
   "outputs": [],
   "source": [
    "# B2H4N2\n",
    "poslist = [2.55892683, 1.07588958, 3.318e-05, 0.19997478, -0.176402, -1.965e-05, -2.25389061, 1.01882375, 4.579e-05,\n",
    " -0.15155989, -2.82096757, 2.915e-05, 4.4000168, -0.20715729, -0.0002777, 2.61775849, 3.32246707, -0.00018017, -2.38909349,\n",
    " 2.12084509, -1.55706757, -2.38851362, 2.12187069, 1.55648136]\n",
    "atlist = ['B', 'N', 'N', 'B', 'H', 'H', 'H', 'H']"
   ]
  },
  {
   "cell_type": "code",
   "execution_count": 5,
   "metadata": {},
   "outputs": [
    {
     "data": {
      "text/plain": [
       "1.0770585536956787"
      ]
     },
     "execution_count": 5,
     "metadata": {},
     "output_type": "execute_result"
    }
   ],
   "source": [
    "# Exact result from dataset (w1-f12 calculation) is 1.0364945333131916\n",
    "model.compute(atlist, poslist)"
   ]
  },
  {
   "cell_type": "code",
   "execution_count": 8,
   "metadata": {},
   "outputs": [],
   "source": [
    "# # Example of how to read the dataset if you downloaded it and want to try another molecul\n",
    "# # please adapt the path '../msr-acc/tae25_valid/' accordingly\n",
    "\n",
    "# import json\n",
    "# import os\n",
    "# with os.scandir('../msr-acc/tae25_valid/') as it:\n",
    "#     for ientry, entry in enumerate(it):\n",
    "#         if entry.name.endswith(\".json\") and entry.is_file():\n",
    "#             with open(entry.path) as f:\n",
    "#                 d = json.load(f)\n",
    "#                 tae = d['extras']['tae@w1-f12']\n",
    "#                 atlist = d['symbols']\n",
    "#                 poslist = d['geometry']\n",
    "#                 print(tae, model.compute(atlist, poslist))"
   ]
  }
 ],
 "metadata": {
  "kernelspec": {
   "display_name": "ai-gen",
   "language": "python",
   "name": "python3"
  },
  "language_info": {
   "codemirror_mode": {
    "name": "ipython",
    "version": 3
   },
   "file_extension": ".py",
   "mimetype": "text/x-python",
   "name": "python",
   "nbconvert_exporter": "python",
   "pygments_lexer": "ipython3",
   "version": "3.13.2"
  }
 },
 "nbformat": 4,
 "nbformat_minor": 2
}
